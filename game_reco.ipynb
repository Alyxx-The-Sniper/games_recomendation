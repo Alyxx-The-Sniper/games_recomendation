{
 "cells": [
  {
   "cell_type": "code",
   "execution_count": 14,
   "id": "7aad7313-a204-44f7-9373-c2b68096ad53",
   "metadata": {},
   "outputs": [
    {
     "name": "stdout",
     "output_type": "stream",
     "text": [
      "Collecting datasets==3.6.0\n",
      "  Downloading datasets-3.6.0-py3-none-any.whl.metadata (19 kB)\n",
      "Collecting filelock (from datasets==3.6.0)\n",
      "  Using cached filelock-3.18.0-py3-none-any.whl.metadata (2.9 kB)\n",
      "Requirement already satisfied: numpy>=1.17 in d:\\.venv\\lib\\site-packages (from datasets==3.6.0) (2.3.0)\n",
      "Collecting pyarrow>=15.0.0 (from datasets==3.6.0)\n",
      "  Downloading pyarrow-20.0.0-cp313-cp313-win_amd64.whl.metadata (3.4 kB)\n",
      "Collecting dill<0.3.9,>=0.3.0 (from datasets==3.6.0)\n",
      "  Downloading dill-0.3.8-py3-none-any.whl.metadata (10 kB)\n",
      "Requirement already satisfied: pandas in d:\\.venv\\lib\\site-packages (from datasets==3.6.0) (2.3.0)\n",
      "Requirement already satisfied: requests>=2.32.2 in d:\\.venv\\lib\\site-packages (from datasets==3.6.0) (2.32.3)\n",
      "Requirement already satisfied: tqdm>=4.66.3 in d:\\.venv\\lib\\site-packages (from datasets==3.6.0) (4.67.1)\n",
      "Collecting xxhash (from datasets==3.6.0)\n",
      "  Downloading xxhash-3.5.0-cp313-cp313-win_amd64.whl.metadata (13 kB)\n",
      "Collecting multiprocess<0.70.17 (from datasets==3.6.0)\n",
      "  Downloading multiprocess-0.70.16-py312-none-any.whl.metadata (7.2 kB)\n",
      "Collecting fsspec<=2025.3.0,>=2023.1.0 (from fsspec[http]<=2025.3.0,>=2023.1.0->datasets==3.6.0)\n",
      "  Downloading fsspec-2025.3.0-py3-none-any.whl.metadata (11 kB)\n",
      "Collecting huggingface-hub>=0.24.0 (from datasets==3.6.0)\n",
      "  Downloading huggingface_hub-0.32.4-py3-none-any.whl.metadata (14 kB)\n",
      "Requirement already satisfied: packaging in d:\\.venv\\lib\\site-packages (from datasets==3.6.0) (25.0)\n",
      "Requirement already satisfied: pyyaml>=5.1 in d:\\.venv\\lib\\site-packages (from datasets==3.6.0) (6.0.2)\n",
      "Collecting aiohttp!=4.0.0a0,!=4.0.0a1 (from fsspec[http]<=2025.3.0,>=2023.1.0->datasets==3.6.0)\n",
      "  Downloading aiohttp-3.12.11-cp313-cp313-win_amd64.whl.metadata (7.9 kB)\n",
      "Requirement already satisfied: typing-extensions>=3.7.4.3 in d:\\.venv\\lib\\site-packages (from huggingface-hub>=0.24.0->datasets==3.6.0) (4.14.0)\n",
      "Requirement already satisfied: charset-normalizer<4,>=2 in d:\\.venv\\lib\\site-packages (from requests>=2.32.2->datasets==3.6.0) (3.4.2)\n",
      "Requirement already satisfied: idna<4,>=2.5 in d:\\.venv\\lib\\site-packages (from requests>=2.32.2->datasets==3.6.0) (3.10)\n",
      "Requirement already satisfied: urllib3<3,>=1.21.1 in d:\\.venv\\lib\\site-packages (from requests>=2.32.2->datasets==3.6.0) (2.4.0)\n",
      "Requirement already satisfied: certifi>=2017.4.17 in d:\\.venv\\lib\\site-packages (from requests>=2.32.2->datasets==3.6.0) (2025.4.26)\n",
      "Requirement already satisfied: colorama in d:\\.venv\\lib\\site-packages (from tqdm>=4.66.3->datasets==3.6.0) (0.4.6)\n",
      "Requirement already satisfied: python-dateutil>=2.8.2 in d:\\.venv\\lib\\site-packages (from pandas->datasets==3.6.0) (2.9.0.post0)\n",
      "Requirement already satisfied: pytz>=2020.1 in d:\\.venv\\lib\\site-packages (from pandas->datasets==3.6.0) (2025.2)\n",
      "Requirement already satisfied: tzdata>=2022.7 in d:\\.venv\\lib\\site-packages (from pandas->datasets==3.6.0) (2025.2)\n",
      "Collecting aiohappyeyeballs>=2.5.0 (from aiohttp!=4.0.0a0,!=4.0.0a1->fsspec[http]<=2025.3.0,>=2023.1.0->datasets==3.6.0)\n",
      "  Downloading aiohappyeyeballs-2.6.1-py3-none-any.whl.metadata (5.9 kB)\n",
      "Collecting aiosignal>=1.1.2 (from aiohttp!=4.0.0a0,!=4.0.0a1->fsspec[http]<=2025.3.0,>=2023.1.0->datasets==3.6.0)\n",
      "  Downloading aiosignal-1.3.2-py2.py3-none-any.whl.metadata (3.8 kB)\n",
      "Requirement already satisfied: attrs>=17.3.0 in d:\\.venv\\lib\\site-packages (from aiohttp!=4.0.0a0,!=4.0.0a1->fsspec[http]<=2025.3.0,>=2023.1.0->datasets==3.6.0) (25.3.0)\n",
      "Collecting frozenlist>=1.1.1 (from aiohttp!=4.0.0a0,!=4.0.0a1->fsspec[http]<=2025.3.0,>=2023.1.0->datasets==3.6.0)\n",
      "  Downloading frozenlist-1.6.2-cp313-cp313-win_amd64.whl.metadata (17 kB)\n",
      "Collecting multidict<7.0,>=4.5 (from aiohttp!=4.0.0a0,!=4.0.0a1->fsspec[http]<=2025.3.0,>=2023.1.0->datasets==3.6.0)\n",
      "  Downloading multidict-6.4.4-cp313-cp313-win_amd64.whl.metadata (5.5 kB)\n",
      "Collecting propcache>=0.2.0 (from aiohttp!=4.0.0a0,!=4.0.0a1->fsspec[http]<=2025.3.0,>=2023.1.0->datasets==3.6.0)\n",
      "  Downloading propcache-0.3.1-cp313-cp313-win_amd64.whl.metadata (11 kB)\n",
      "Collecting yarl<2.0,>=1.17.0 (from aiohttp!=4.0.0a0,!=4.0.0a1->fsspec[http]<=2025.3.0,>=2023.1.0->datasets==3.6.0)\n",
      "  Downloading yarl-1.20.0-cp313-cp313-win_amd64.whl.metadata (74 kB)\n",
      "Requirement already satisfied: six>=1.5 in d:\\.venv\\lib\\site-packages (from python-dateutil>=2.8.2->pandas->datasets==3.6.0) (1.17.0)\n",
      "Downloading datasets-3.6.0-py3-none-any.whl (491 kB)\n",
      "Downloading dill-0.3.8-py3-none-any.whl (116 kB)\n",
      "Downloading fsspec-2025.3.0-py3-none-any.whl (193 kB)\n",
      "Downloading huggingface_hub-0.32.4-py3-none-any.whl (512 kB)\n",
      "Downloading multiprocess-0.70.16-py312-none-any.whl (146 kB)\n",
      "Downloading pyarrow-20.0.0-cp313-cp313-win_amd64.whl (25.7 MB)\n",
      "   ---------------------------------------- 0.0/25.7 MB ? eta -:--:--\n",
      "   -- ------------------------------------- 1.6/25.7 MB 8.6 MB/s eta 0:00:03\n",
      "   ----- ---------------------------------- 3.7/25.7 MB 8.6 MB/s eta 0:00:03\n",
      "   -------- ------------------------------- 5.2/25.7 MB 8.4 MB/s eta 0:00:03\n",
      "   ----------- ---------------------------- 7.3/25.7 MB 8.5 MB/s eta 0:00:03\n",
      "   -------------- ------------------------- 9.4/25.7 MB 8.7 MB/s eta 0:00:02\n",
      "   ----------------- ---------------------- 11.3/25.7 MB 8.6 MB/s eta 0:00:02\n",
      "   --------------------- ------------------ 13.6/25.7 MB 9.0 MB/s eta 0:00:02\n",
      "   ------------------------ --------------- 15.7/25.7 MB 9.0 MB/s eta 0:00:02\n",
      "   ------------------------- -------------- 16.5/25.7 MB 8.7 MB/s eta 0:00:02\n",
      "   ---------------------------- ----------- 18.1/25.7 MB 8.4 MB/s eta 0:00:01\n",
      "   ------------------------------- -------- 20.2/25.7 MB 8.5 MB/s eta 0:00:01\n",
      "   ----------------------------------- ---- 22.8/25.7 MB 8.8 MB/s eta 0:00:01\n",
      "   ---------------------------------------  25.4/25.7 MB 9.1 MB/s eta 0:00:01\n",
      "   ---------------------------------------  25.4/25.7 MB 9.1 MB/s eta 0:00:01\n",
      "   ---------------------------------------- 25.7/25.7 MB 8.1 MB/s eta 0:00:00\n",
      "Using cached filelock-3.18.0-py3-none-any.whl (16 kB)\n",
      "Downloading xxhash-3.5.0-cp313-cp313-win_amd64.whl (30 kB)\n",
      "Downloading aiohttp-3.12.11-cp313-cp313-win_amd64.whl (445 kB)\n",
      "Downloading aiohappyeyeballs-2.6.1-py3-none-any.whl (15 kB)\n",
      "Downloading aiosignal-1.3.2-py2.py3-none-any.whl (7.6 kB)\n",
      "Downloading frozenlist-1.6.2-cp313-cp313-win_amd64.whl (46 kB)\n",
      "Downloading multidict-6.4.4-cp313-cp313-win_amd64.whl (38 kB)\n",
      "Downloading propcache-0.3.1-cp313-cp313-win_amd64.whl (44 kB)\n",
      "Downloading yarl-1.20.0-cp313-cp313-win_amd64.whl (92 kB)\n",
      "Installing collected packages: xxhash, pyarrow, propcache, multidict, fsspec, frozenlist, filelock, dill, aiohappyeyeballs, yarl, multiprocess, huggingface-hub, aiosignal, aiohttp, datasets\n",
      "Successfully installed aiohappyeyeballs-2.6.1 aiohttp-3.12.11 aiosignal-1.3.2 datasets-3.6.0 dill-0.3.8 filelock-3.18.0 frozenlist-1.6.2 fsspec-2025.3.0 huggingface-hub-0.32.4 multidict-6.4.4 multiprocess-0.70.16 propcache-0.3.1 pyarrow-20.0.0 xxhash-3.5.0 yarl-1.20.0\n"
     ]
    },
    {
     "name": "stderr",
     "output_type": "stream",
     "text": [
      "\n",
      "[notice] A new release of pip is available: 25.0.1 -> 25.1.1\n",
      "[notice] To update, run: python.exe -m pip install --upgrade pip\n"
     ]
    },
    {
     "name": "stdout",
     "output_type": "stream",
     "text": [
      "Collecting transformers==4.52.4\n",
      "  Downloading transformers-4.52.4-py3-none-any.whl.metadata (38 kB)\n",
      "Requirement already satisfied: filelock in d:\\.venv\\lib\\site-packages (from transformers==4.52.4) (3.18.0)\n",
      "Requirement already satisfied: huggingface-hub<1.0,>=0.30.0 in d:\\.venv\\lib\\site-packages (from transformers==4.52.4) (0.32.4)\n",
      "Requirement already satisfied: numpy>=1.17 in d:\\.venv\\lib\\site-packages (from transformers==4.52.4) (2.3.0)\n",
      "Requirement already satisfied: packaging>=20.0 in d:\\.venv\\lib\\site-packages (from transformers==4.52.4) (25.0)\n",
      "Requirement already satisfied: pyyaml>=5.1 in d:\\.venv\\lib\\site-packages (from transformers==4.52.4) (6.0.2)\n",
      "Collecting regex!=2019.12.17 (from transformers==4.52.4)\n",
      "  Downloading regex-2024.11.6-cp313-cp313-win_amd64.whl.metadata (41 kB)\n",
      "Requirement already satisfied: requests in d:\\.venv\\lib\\site-packages (from transformers==4.52.4) (2.32.3)\n",
      "Collecting tokenizers<0.22,>=0.21 (from transformers==4.52.4)\n",
      "  Downloading tokenizers-0.21.1-cp39-abi3-win_amd64.whl.metadata (6.9 kB)\n",
      "Collecting safetensors>=0.4.3 (from transformers==4.52.4)\n",
      "  Downloading safetensors-0.5.3-cp38-abi3-win_amd64.whl.metadata (3.9 kB)\n",
      "Requirement already satisfied: tqdm>=4.27 in d:\\.venv\\lib\\site-packages (from transformers==4.52.4) (4.67.1)\n",
      "Requirement already satisfied: fsspec>=2023.5.0 in d:\\.venv\\lib\\site-packages (from huggingface-hub<1.0,>=0.30.0->transformers==4.52.4) (2025.3.0)\n",
      "Requirement already satisfied: typing-extensions>=3.7.4.3 in d:\\.venv\\lib\\site-packages (from huggingface-hub<1.0,>=0.30.0->transformers==4.52.4) (4.14.0)\n",
      "Requirement already satisfied: colorama in d:\\.venv\\lib\\site-packages (from tqdm>=4.27->transformers==4.52.4) (0.4.6)\n",
      "Requirement already satisfied: charset-normalizer<4,>=2 in d:\\.venv\\lib\\site-packages (from requests->transformers==4.52.4) (3.4.2)\n",
      "Requirement already satisfied: idna<4,>=2.5 in d:\\.venv\\lib\\site-packages (from requests->transformers==4.52.4) (3.10)\n",
      "Requirement already satisfied: urllib3<3,>=1.21.1 in d:\\.venv\\lib\\site-packages (from requests->transformers==4.52.4) (2.4.0)\n",
      "Requirement already satisfied: certifi>=2017.4.17 in d:\\.venv\\lib\\site-packages (from requests->transformers==4.52.4) (2025.4.26)\n",
      "Downloading transformers-4.52.4-py3-none-any.whl (10.5 MB)\n",
      "   ---------------------------------------- 0.0/10.5 MB ? eta -:--:--\n",
      "   ----- ---------------------------------- 1.3/10.5 MB 6.3 MB/s eta 0:00:02\n",
      "   -------------- ------------------------- 3.7/10.5 MB 8.6 MB/s eta 0:00:01\n",
      "   ----------------------- ---------------- 6.0/10.5 MB 9.2 MB/s eta 0:00:01\n",
      "   ----------------------------------- ---- 9.2/10.5 MB 10.1 MB/s eta 0:00:01\n",
      "   ---------------------------------------  10.2/10.5 MB 9.9 MB/s eta 0:00:01\n",
      "   ---------------------------------------- 10.5/10.5 MB 8.4 MB/s eta 0:00:00\n",
      "Downloading regex-2024.11.6-cp313-cp313-win_amd64.whl (273 kB)\n",
      "Downloading safetensors-0.5.3-cp38-abi3-win_amd64.whl (308 kB)\n",
      "Downloading tokenizers-0.21.1-cp39-abi3-win_amd64.whl (2.4 MB)\n",
      "   ---------------------------------------- 0.0/2.4 MB ? eta -:--:--\n",
      "   -------------------------------------- - 2.4/2.4 MB 10.4 MB/s eta 0:00:01\n",
      "   ---------------------------------------- 2.4/2.4 MB 8.3 MB/s eta 0:00:00\n",
      "Installing collected packages: safetensors, regex, tokenizers, transformers\n",
      "Successfully installed regex-2024.11.6 safetensors-0.5.3 tokenizers-0.21.1 transformers-4.52.4\n"
     ]
    },
    {
     "name": "stderr",
     "output_type": "stream",
     "text": [
      "\n",
      "[notice] A new release of pip is available: 25.0.1 -> 25.1.1\n",
      "[notice] To update, run: python.exe -m pip install --upgrade pip\n"
     ]
    },
    {
     "name": "stdout",
     "output_type": "stream",
     "text": [
      "Collecting torch==2.7.1\n",
      "  Downloading torch-2.7.1-cp313-cp313-win_amd64.whl.metadata (28 kB)\n",
      "Requirement already satisfied: filelock in d:\\.venv\\lib\\site-packages (from torch==2.7.1) (3.18.0)\n",
      "Requirement already satisfied: typing-extensions>=4.10.0 in d:\\.venv\\lib\\site-packages (from torch==2.7.1) (4.14.0)\n",
      "Collecting sympy>=1.13.3 (from torch==2.7.1)\n",
      "  Downloading sympy-1.14.0-py3-none-any.whl.metadata (12 kB)\n",
      "Collecting networkx (from torch==2.7.1)\n",
      "  Downloading networkx-3.5-py3-none-any.whl.metadata (6.3 kB)\n",
      "Requirement already satisfied: jinja2 in d:\\.venv\\lib\\site-packages (from torch==2.7.1) (3.1.6)\n",
      "Requirement already satisfied: fsspec in d:\\.venv\\lib\\site-packages (from torch==2.7.1) (2025.3.0)\n",
      "Requirement already satisfied: setuptools in d:\\.venv\\lib\\site-packages (from torch==2.7.1) (80.9.0)\n",
      "Collecting mpmath<1.4,>=1.1.0 (from sympy>=1.13.3->torch==2.7.1)\n",
      "  Downloading mpmath-1.3.0-py3-none-any.whl.metadata (8.6 kB)\n",
      "Requirement already satisfied: MarkupSafe>=2.0 in d:\\.venv\\lib\\site-packages (from jinja2->torch==2.7.1) (3.0.2)\n",
      "Downloading torch-2.7.1-cp313-cp313-win_amd64.whl (216.1 MB)\n",
      "   ---------------------------------------- 0.0/216.1 MB ? eta -:--:--\n",
      "   ---------------------------------------- 0.5/216.1 MB 2.8 MB/s eta 0:01:18\n",
      "   ---------------------------------------- 1.0/216.1 MB 2.8 MB/s eta 0:01:18\n",
      "   ---------------------------------------- 1.8/216.1 MB 3.6 MB/s eta 0:00:59\n",
      "    --------------------------------------- 3.1/216.1 MB 4.1 MB/s eta 0:00:52\n",
      "    --------------------------------------- 5.2/216.1 MB 5.4 MB/s eta 0:00:39\n",
      "   - -------------------------------------- 7.9/216.1 MB 6.6 MB/s eta 0:00:32\n",
      "   - -------------------------------------- 9.7/216.1 MB 6.9 MB/s eta 0:00:30\n",
      "   -- ------------------------------------- 11.5/216.1 MB 7.1 MB/s eta 0:00:29\n",
      "   -- ------------------------------------- 13.1/216.1 MB 7.1 MB/s eta 0:00:29\n",
      "   -- ------------------------------------- 14.9/216.1 MB 7.4 MB/s eta 0:00:28\n",
      "   --- ------------------------------------ 17.0/216.1 MB 7.5 MB/s eta 0:00:27\n",
      "   --- ------------------------------------ 19.1/216.1 MB 7.8 MB/s eta 0:00:26\n",
      "   --- ------------------------------------ 21.5/216.1 MB 8.1 MB/s eta 0:00:25\n",
      "   ---- ----------------------------------- 23.9/216.1 MB 8.3 MB/s eta 0:00:24\n",
      "   ---- ----------------------------------- 26.5/216.1 MB 8.6 MB/s eta 0:00:23\n",
      "   ----- ---------------------------------- 29.1/216.1 MB 8.8 MB/s eta 0:00:22\n",
      "   ----- ---------------------------------- 31.5/216.1 MB 9.0 MB/s eta 0:00:21\n",
      "   ------ --------------------------------- 34.1/216.1 MB 9.2 MB/s eta 0:00:20\n",
      "   ------ --------------------------------- 36.7/216.1 MB 9.3 MB/s eta 0:00:20\n",
      "   ------- -------------------------------- 39.3/216.1 MB 9.5 MB/s eta 0:00:19\n",
      "   ------- -------------------------------- 42.2/216.1 MB 9.7 MB/s eta 0:00:18\n",
      "   -------- ------------------------------- 44.6/216.1 MB 9.8 MB/s eta 0:00:18\n",
      "   -------- ------------------------------- 47.4/216.1 MB 9.9 MB/s eta 0:00:18\n",
      "   --------- ------------------------------ 49.8/216.1 MB 10.0 MB/s eta 0:00:17\n",
      "   --------- ------------------------------ 52.7/216.1 MB 10.1 MB/s eta 0:00:17\n",
      "   ---------- ----------------------------- 55.1/216.1 MB 10.2 MB/s eta 0:00:16\n",
      "   ---------- ----------------------------- 57.7/216.1 MB 10.2 MB/s eta 0:00:16\n",
      "   ----------- ---------------------------- 59.5/216.1 MB 10.2 MB/s eta 0:00:16\n",
      "   ----------- ---------------------------- 62.1/216.1 MB 10.3 MB/s eta 0:00:15\n",
      "   ----------- ---------------------------- 64.5/216.1 MB 10.3 MB/s eta 0:00:15\n",
      "   ------------- -------------------------- 71.3/216.1 MB 10.4 MB/s eta 0:00:14\n",
      "   ------------- -------------------------- 75.5/216.1 MB 10.5 MB/s eta 0:00:14\n",
      "   -------------- ------------------------- 78.6/216.1 MB 10.6 MB/s eta 0:00:13\n",
      "   --------------- ------------------------ 82.1/216.1 MB 10.7 MB/s eta 0:00:13\n",
      "   --------------- ------------------------ 84.7/216.1 MB 10.7 MB/s eta 0:00:13\n",
      "   ---------------- ----------------------- 87.0/216.1 MB 10.7 MB/s eta 0:00:13\n",
      "   ---------------- ----------------------- 89.7/216.1 MB 10.7 MB/s eta 0:00:12\n",
      "   ----------------- ---------------------- 92.5/216.1 MB 10.8 MB/s eta 0:00:12\n",
      "   ----------------- ---------------------- 96.7/216.1 MB 10.8 MB/s eta 0:00:12\n",
      "   ------------------ --------------------- 99.1/216.1 MB 10.8 MB/s eta 0:00:11\n",
      "   ------------------ -------------------- 101.4/216.1 MB 10.8 MB/s eta 0:00:11\n",
      "   ------------------ -------------------- 102.5/216.1 MB 10.7 MB/s eta 0:00:11\n",
      "   ------------------ -------------------- 103.5/216.1 MB 10.5 MB/s eta 0:00:11\n",
      "   ------------------ -------------------- 104.9/216.1 MB 10.4 MB/s eta 0:00:11\n",
      "   ------------------- ------------------- 106.7/216.1 MB 10.4 MB/s eta 0:00:11\n",
      "   ------------------- ------------------- 109.3/216.1 MB 10.4 MB/s eta 0:00:11\n",
      "   -------------------- ------------------ 111.7/216.1 MB 10.4 MB/s eta 0:00:11\n",
      "   -------------------- ------------------ 113.8/216.1 MB 10.4 MB/s eta 0:00:10\n",
      "   -------------------- ------------------ 115.6/216.1 MB 10.4 MB/s eta 0:00:10\n",
      "   --------------------- ----------------- 117.7/216.1 MB 10.4 MB/s eta 0:00:10\n",
      "   --------------------- ----------------- 119.8/216.1 MB 10.4 MB/s eta 0:00:10\n",
      "   ---------------------- ---------------- 122.2/216.1 MB 10.4 MB/s eta 0:00:10\n",
      "   ---------------------- ---------------- 124.5/216.1 MB 10.4 MB/s eta 0:00:09\n",
      "   ---------------------- ---------------- 127.1/216.1 MB 10.4 MB/s eta 0:00:09\n",
      "   ----------------------- --------------- 129.5/216.1 MB 10.4 MB/s eta 0:00:09\n",
      "   ----------------------- --------------- 131.9/216.1 MB 10.4 MB/s eta 0:00:09\n",
      "   ------------------------ -------------- 134.5/216.1 MB 10.5 MB/s eta 0:00:08\n",
      "   ------------------------ -------------- 137.4/216.1 MB 10.5 MB/s eta 0:00:08\n",
      "   ------------------------- ------------- 140.0/216.1 MB 10.5 MB/s eta 0:00:08\n",
      "   ------------------------- ------------- 142.3/216.1 MB 10.6 MB/s eta 0:00:07\n",
      "   -------------------------- ------------ 145.2/216.1 MB 10.6 MB/s eta 0:00:07\n",
      "   -------------------------- ------------ 147.8/216.1 MB 10.6 MB/s eta 0:00:07\n",
      "   --------------------------- ----------- 150.7/216.1 MB 10.7 MB/s eta 0:00:07\n",
      "   --------------------------- ----------- 153.6/216.1 MB 10.7 MB/s eta 0:00:06\n",
      "   ---------------------------- ---------- 156.5/216.1 MB 10.7 MB/s eta 0:00:06\n",
      "   ---------------------------- ---------- 159.1/216.1 MB 10.8 MB/s eta 0:00:06\n",
      "   ----------------------------- --------- 162.0/216.1 MB 10.8 MB/s eta 0:00:06\n",
      "   ----------------------------- --------- 164.6/216.1 MB 10.8 MB/s eta 0:00:05\n",
      "   ------------------------------ -------- 167.8/216.1 MB 10.9 MB/s eta 0:00:05\n",
      "   ------------------------------ -------- 170.4/216.1 MB 10.9 MB/s eta 0:00:05\n",
      "   ------------------------------- ------- 173.0/216.1 MB 10.9 MB/s eta 0:00:04\n",
      "   ------------------------------- ------- 174.3/216.1 MB 10.8 MB/s eta 0:00:04\n",
      "   ------------------------------- ------- 175.9/216.1 MB 10.8 MB/s eta 0:00:04\n",
      "   -------------------------------- ------ 178.0/216.1 MB 10.8 MB/s eta 0:00:04\n",
      "   -------------------------------- ------ 180.6/216.1 MB 10.8 MB/s eta 0:00:04\n",
      "   --------------------------------- ----- 183.5/216.1 MB 10.8 MB/s eta 0:00:04\n",
      "   --------------------------------- ----- 186.1/216.1 MB 10.8 MB/s eta 0:00:03\n",
      "   ---------------------------------- ---- 189.0/216.1 MB 10.9 MB/s eta 0:00:03\n",
      "   ---------------------------------- ---- 191.6/216.1 MB 10.9 MB/s eta 0:00:03\n",
      "   ----------------------------------- --- 194.5/216.1 MB 10.9 MB/s eta 0:00:02\n",
      "   ----------------------------------- --- 197.4/216.1 MB 10.9 MB/s eta 0:00:02\n",
      "   ------------------------------------ -- 200.3/216.1 MB 11.0 MB/s eta 0:00:02\n",
      "   ------------------------------------ -- 203.2/216.1 MB 11.0 MB/s eta 0:00:02\n",
      "   ------------------------------------- - 205.8/216.1 MB 11.0 MB/s eta 0:00:01\n",
      "   ------------------------------------- - 208.7/216.1 MB 11.0 MB/s eta 0:00:01\n",
      "   --------------------------------------  211.3/216.1 MB 11.0 MB/s eta 0:00:01\n",
      "   --------------------------------------  214.2/216.1 MB 11.1 MB/s eta 0:00:01\n",
      "   --------------------------------------  216.0/216.1 MB 11.1 MB/s eta 0:00:01\n",
      "   --------------------------------------  216.0/216.1 MB 11.1 MB/s eta 0:00:01\n",
      "   --------------------------------------  216.0/216.1 MB 11.1 MB/s eta 0:00:01\n",
      "   --------------------------------------  216.0/216.1 MB 11.1 MB/s eta 0:00:01\n",
      "   --------------------------------------  216.0/216.1 MB 11.1 MB/s eta 0:00:01\n",
      "   --------------------------------------  216.0/216.1 MB 11.1 MB/s eta 0:00:01\n",
      "   --------------------------------------  216.0/216.1 MB 11.1 MB/s eta 0:00:01\n",
      "   --------------------------------------  216.0/216.1 MB 11.1 MB/s eta 0:00:01\n",
      "   --------------------------------------  216.0/216.1 MB 11.1 MB/s eta 0:00:01\n",
      "   --------------------------------------  216.0/216.1 MB 11.1 MB/s eta 0:00:01\n",
      "   --------------------------------------  216.0/216.1 MB 11.1 MB/s eta 0:00:01\n",
      "   ---------------------------------------- 216.1/216.1 MB 9.9 MB/s eta 0:00:00\n",
      "Downloading sympy-1.14.0-py3-none-any.whl (6.3 MB)\n",
      "   ---------------------------------------- 0.0/6.3 MB ? eta -:--:--\n",
      "   ------------- -------------------------- 2.1/6.3 MB 10.3 MB/s eta 0:00:01\n",
      "   ------------------------ --------------- 3.9/6.3 MB 9.5 MB/s eta 0:00:01\n",
      "   ---------------------------------------  6.3/6.3 MB 10.8 MB/s eta 0:00:01\n",
      "   ---------------------------------------- 6.3/6.3 MB 8.6 MB/s eta 0:00:00\n",
      "Downloading networkx-3.5-py3-none-any.whl (2.0 MB)\n",
      "   ---------------------------------------- 0.0/2.0 MB ? eta -:--:--\n",
      "   ---------------------------------------- 2.0/2.0 MB 10.7 MB/s eta 0:00:00\n",
      "Downloading mpmath-1.3.0-py3-none-any.whl (536 kB)\n",
      "   ---------------------------------------- 0.0/536.2 kB ? eta -:--:--\n",
      "   ---------------------------------------- 536.2/536.2 kB 5.8 MB/s eta 0:00:00\n",
      "Installing collected packages: mpmath, sympy, networkx, torch\n",
      "Successfully installed mpmath-1.3.0 networkx-3.5 sympy-1.14.0 torch-2.7.1\n"
     ]
    },
    {
     "name": "stderr",
     "output_type": "stream",
     "text": [
      "\n",
      "[notice] A new release of pip is available: 25.0.1 -> 25.1.1\n",
      "[notice] To update, run: python.exe -m pip install --upgrade pip\n"
     ]
    },
    {
     "name": "stdout",
     "output_type": "stream",
     "text": [
      "Collecting faiss-cpu==1.11.0\n",
      "  Downloading faiss_cpu-1.11.0-cp313-cp313-win_amd64.whl.metadata (5.0 kB)\n",
      "Requirement already satisfied: numpy<3.0,>=1.25.0 in d:\\.venv\\lib\\site-packages (from faiss-cpu==1.11.0) (2.3.0)\n",
      "Requirement already satisfied: packaging in d:\\.venv\\lib\\site-packages (from faiss-cpu==1.11.0) (25.0)\n",
      "Downloading faiss_cpu-1.11.0-cp313-cp313-win_amd64.whl (15.0 MB)\n",
      "   ---------------------------------------- 0.0/15.0 MB ? eta -:--:--\n",
      "   -- ------------------------------------- 1.0/15.0 MB 5.7 MB/s eta 0:00:03\n",
      "   ------ --------------------------------- 2.4/15.0 MB 6.0 MB/s eta 0:00:03\n",
      "   -------- ------------------------------- 3.1/15.0 MB 5.2 MB/s eta 0:00:03\n",
      "   ----------- ---------------------------- 4.5/15.0 MB 5.2 MB/s eta 0:00:03\n",
      "   ------------- -------------------------- 5.2/15.0 MB 5.6 MB/s eta 0:00:02\n",
      "   ------------------ --------------------- 6.8/15.0 MB 5.3 MB/s eta 0:00:02\n",
      "   ---------------------- ----------------- 8.4/15.0 MB 5.7 MB/s eta 0:00:02\n",
      "   ---------------------- ----------------- 8.4/15.0 MB 5.7 MB/s eta 0:00:02\n",
      "   --------------------------- ------------ 10.5/15.0 MB 5.4 MB/s eta 0:00:01\n",
      "   -------------------------------- ------- 12.1/15.0 MB 5.7 MB/s eta 0:00:01\n",
      "   ------------------------------------- -- 13.9/15.0 MB 5.9 MB/s eta 0:00:01\n",
      "   ---------------------------------------  14.9/15.0 MB 6.1 MB/s eta 0:00:01\n",
      "   ---------------------------------------- 15.0/15.0 MB 5.6 MB/s eta 0:00:00\n",
      "Installing collected packages: faiss-cpu\n",
      "Successfully installed faiss-cpu-1.11.0\n"
     ]
    },
    {
     "name": "stderr",
     "output_type": "stream",
     "text": [
      "\n",
      "[notice] A new release of pip is available: 25.0.1 -> 25.1.1\n",
      "[notice] To update, run: python.exe -m pip install --upgrade pip\n"
     ]
    }
   ],
   "source": [
    "# pip install pandas==2.3.0\n",
    "# !pip install tqdm==4.67.1\n",
    "\n",
    "# Hugging-Face libraries\n",
    "!pip install datasets==3.6.0\n",
    "!pip install transformers==4.52.4\n",
    "\n",
    "# PyTorch \n",
    "!pip install torch==2.7.1\n",
    "\n",
    "# faiss\n",
    "!pip install faiss-cpu==1.11.0"
   ]
  },
  {
   "cell_type": "code",
   "execution_count": 12,
   "id": "1b3f3ec7-5b6e-4d37-91e9-53d7700286cd",
   "metadata": {},
   "outputs": [],
   "source": [
    "import requests\n",
    "from bs4 import BeautifulSoup\n",
    "import random\n",
    "import pandas as pd\n",
    "pd.set_option(\"display.max_colwidth\", None)\n",
    "from tqdm import tqdm"
   ]
  },
  {
   "cell_type": "code",
   "execution_count": 9,
   "id": "ae9eb68b-1483-43c4-b631-95fef2341072",
   "metadata": {},
   "outputs": [
    {
     "data": {
      "text/plain": [
       "200"
      ]
     },
     "execution_count": 9,
     "metadata": {},
     "output_type": "execute_result"
    }
   ],
   "source": [
    "# Create Global Variable\n",
    "# Define the API endpoint and parameters\n",
    "endpoint = \"https://api.steampowered.com/ISteamApps/GetAppList/v2/\"\n",
    "# Send the API request\n",
    "response = requests.get(endpoint)\n",
    "response.status_code"
   ]
  },
  {
   "cell_type": "code",
   "execution_count": 10,
   "id": "a26f2561",
   "metadata": {},
   "outputs": [],
   "source": [
    "import requests\n",
    "import json\n",
    "\n",
    "def fetch_steam_game_info(num_games: int, random_state: int = 42, save_filename: str = \"steam_games.json\"):\n",
    "    \"\"\"\n",
    "    This function takes a number of game apps from the Steam API and returns a list of dictionaries\n",
    "    with the game app names and descriptions. The descriptions are cleaned using the Beautiful Soup library.\n",
    "    :param num_games: The number of game apps to fetch.\n",
    "    :param random_state: Random seed for reproducibility. If None, randomness is not controlled.\n",
    "    :param save_filename: The filename to save the fetched game information as a JSON file.\n",
    "    :return: List of dictionaries with game app names and descriptions.\n",
    "    \"\"\"\n",
    "    # Set random seed if provided\n",
    "    if random_state is not None:\n",
    "        random.seed(random_state)\n",
    "\n",
    "    # Initialize the list to store game information as dictionaries\n",
    "    games_list = []\n",
    "\n",
    "    # Make a request to the Steam API\n",
    "    response = requests.get(\"https://api.steampowered.com/ISteamApps/GetAppList/v2/\")\n",
    "\n",
    "    if response.status_code == 200:\n",
    "        data = response.json()\n",
    "\n",
    "        # Extract the list of apps from the response\n",
    "        if \"applist\" in data and \"apps\" in data[\"applist\"]:\n",
    "            apps = data[\"applist\"][\"apps\"]\n",
    "\n",
    "            # Shuffle the apps list for random sampling\n",
    "            random.shuffle(apps)\n",
    "\n",
    "            # Iterate over the apps and retrieve game information\n",
    "            with tqdm(total=num_games, desc=\"Fetching game details\", unit=\"app\") as pbar:\n",
    "                for app in apps:\n",
    "                    app_id = app[\"appid\"]\n",
    "                    game_name = app[\"name\"]\n",
    "\n",
    "                    # Retrieve game details using the Steam Web API\n",
    "                    game_details_url = f\"https://store.steampowered.com/api/appdetails?appids={app_id}\"\n",
    "                    game_details_response = requests.get(game_details_url)\n",
    "\n",
    "                    try:\n",
    "                        game_details_data = game_details_response.json()\n",
    "                    except ValueError:\n",
    "                        continue\n",
    "\n",
    "                    # Check if the game details request was successful\n",
    "                    if game_details_response.status_code == 200 and str(app_id) in game_details_data:\n",
    "                        if \"data\" in game_details_data[str(app_id)]:\n",
    "                            game_data = game_details_data[str(app_id)][\"data\"]\n",
    "                            game_description = game_data.get(\"detailed_description\", \"\")\n",
    "\n",
    "                            # Remove all HTML tags from the description\n",
    "                            soup = BeautifulSoup(game_description, \"html.parser\")\n",
    "                            game_description = soup.get_text()\n",
    "\n",
    "                            # Create a dictionary with game name and description\n",
    "                            game_dict = {\n",
    "                                \"game_name\": game_name,\n",
    "                                \"game_description\": game_description\n",
    "                            }\n",
    "\n",
    "                            # Add the game dictionary to the list\n",
    "                            games_list.append(game_dict)\n",
    "                            pbar.update(1)  # Update the progress bar for every successful fetch\n",
    "\n",
    "                            # Check if the desired number of games has been fetched\n",
    "                            if len(games_list) >= num_games:\n",
    "                                break\n",
    "\n",
    "        else:\n",
    "            print(\"No 'applist' or 'apps' found in the API response.\")\n",
    "\n",
    "    else:\n",
    "        print(\"Error:\", response.status_code)\n",
    "\n",
    "    # Print the fetch results\n",
    "    print(\"\\n#### Fetch Complete ####\")\n",
    "    print(\"\\nNumber of games fetched:\", len(games_list))\n",
    "\n",
    "    if len(games_list) < num_games:\n",
    "        print(\"\\nNo more game apps available.\")\n",
    "\n",
    "    # Save the fetched game information as a JSON file\n",
    "    with open(save_filename, \"w\") as file:\n",
    "        json.dump(games_list, file)\n",
    "\n",
    "    # Print a message to indicate the successful download\n",
    "    print(f\"\\nFetched Steam games downloaded and saved as {save_filename} in the local folder.\")\n",
    "\n",
    "    return games_list"
   ]
  },
  {
   "cell_type": "code",
   "execution_count": 11,
   "id": "fe145da4",
   "metadata": {},
   "outputs": [
    {
     "name": "stderr",
     "output_type": "stream",
     "text": [
      "Fetching game details: 100%|█| 50/50 [00:\n"
     ]
    },
    {
     "name": "stdout",
     "output_type": "stream",
     "text": [
      "\n",
      "#### Fetch Complete ####\n",
      "\n",
      "Number of games fetched: 50\n",
      "\n",
      "Fetched Steam games downloaded and saved as steam_games.json in the local folder.\n"
     ]
    }
   ],
   "source": [
    "steam_games = fetch_steam_game_info(num_games = 50,\n",
    "                                    save_filename=\"steam_games.json\")"
   ]
  },
  {
   "cell_type": "code",
   "execution_count": 13,
   "id": "0c06885f",
   "metadata": {},
   "outputs": [
    {
     "data": {
      "text/html": [
       "<div>\n",
       "<style scoped>\n",
       "    .dataframe tbody tr th:only-of-type {\n",
       "        vertical-align: middle;\n",
       "    }\n",
       "\n",
       "    .dataframe tbody tr th {\n",
       "        vertical-align: top;\n",
       "    }\n",
       "\n",
       "    .dataframe thead th {\n",
       "        text-align: right;\n",
       "    }\n",
       "</style>\n",
       "<table border=\"1\" class=\"dataframe\">\n",
       "  <thead>\n",
       "    <tr style=\"text-align: right;\">\n",
       "      <th></th>\n",
       "      <th>game_name</th>\n",
       "      <th>game_description</th>\n",
       "    </tr>\n",
       "  </thead>\n",
       "  <tbody>\n",
       "    <tr>\n",
       "      <th>3</th>\n",
       "      <td>Detective March Forward - The Missing Will Soundtrack</td>\n",
       "      <td>A delight for Detective March Forward fans, this compilation contains 5 relaxing and intriguing soundtracks.\\r\\nThese source materials are composed by Lívio.\\r\\nFormat available: MP3 (V0).</td>\n",
       "    </tr>\n",
       "    <tr>\n",
       "      <th>42</th>\n",
       "      <td>Korlax Escape!</td>\n",
       "      <td>Unique gameplay mechanics: Korlax Escape combines puzzle-solving and shooting mechanics, offering players a fresh and engaging gaming experience that stands out from other games in the genre.Vibrant cartoony art style: The game's colourful and whimsical visuals make it appealing to a wide range of players, providing a delightful and immersive gaming experience.Engaging linear story: Unravel the story of the UFO's escape as you progress through the levels, adding an extra layer of depth and engagement to the gameplay.Retro-gamer appeal: With its challenging puzzles and arcade-style gameplay, Korlax Escape is sure to resonate with fans of classic games and those who enjoy the retro gaming aesthetic.Speed-running potential: The game's design and level structure cater to speed runners, offering an additional layer of replayability and competition for players who enjoy pushing their skills to the limit.</td>\n",
       "    </tr>\n",
       "    <tr>\n",
       "      <th>49</th>\n",
       "      <td>Snack Tick</td>\n",
       "      <td>Snack Tick is a Party Collectathon Adventure Game. You or up to 4 Players will go through various locations, as unique Alien Insects while facing off and avoiding a multitude of threats! As part of an Invasion of Aliens that have arrived on Earth, your goal is collect enough food and supplies for the Supreme Queen Nomi! On your journey, your group has encountered a courtier of threats that are on the offensive. Not to worry, you will also gain assistance from your comrades up in space with the help of Aitemus, Powerups that will temporarily give you an advantage in surviving.•\\t10 Playable Aliens, each with their own Unique look and Perks.•\\tMissions for each Alien, set within different locations and scenarios.•\\tCustomisable Multiplayer with enough options for unique sessions that keep on changing every time you play.•\\tPowerups that give you an advantage and could give others a DisadvantageWITH MORE CONTENT ON THE WAY!WARNING: Some Levels contain sequences with Flashing Lights.</td>\n",
       "    </tr>\n",
       "  </tbody>\n",
       "</table>\n",
       "</div>"
      ],
      "text/plain": [
       "                                                game_name  \\\n",
       "3   Detective March Forward - The Missing Will Soundtrack   \n",
       "42                                         Korlax Escape!   \n",
       "49                                             Snack Tick   \n",
       "\n",
       "                                                                                                                                                                                                                                                                                                                                                                                                                                                                                                                                                                                                                                                                                                                                                                                                                                                                                                                                                                                                                      game_description  \n",
       "3                                                                                                                                                                                                                                                                                                                                                                                                                                                                                                                                                                                                                                                                                                                                                                                                                                         A delight for Detective March Forward fans, this compilation contains 5 relaxing and intriguing soundtracks.\\r\\nThese source materials are composed by Lívio.\\r\\nFormat available: MP3 (V0).  \n",
       "42                                                                                     Unique gameplay mechanics: Korlax Escape combines puzzle-solving and shooting mechanics, offering players a fresh and engaging gaming experience that stands out from other games in the genre.Vibrant cartoony art style: The game's colourful and whimsical visuals make it appealing to a wide range of players, providing a delightful and immersive gaming experience.Engaging linear story: Unravel the story of the UFO's escape as you progress through the levels, adding an extra layer of depth and engagement to the gameplay.Retro-gamer appeal: With its challenging puzzles and arcade-style gameplay, Korlax Escape is sure to resonate with fans of classic games and those who enjoy the retro gaming aesthetic.Speed-running potential: The game's design and level structure cater to speed runners, offering an additional layer of replayability and competition for players who enjoy pushing their skills to the limit.  \n",
       "49  Snack Tick is a Party Collectathon Adventure Game. You or up to 4 Players will go through various locations, as unique Alien Insects while facing off and avoiding a multitude of threats! As part of an Invasion of Aliens that have arrived on Earth, your goal is collect enough food and supplies for the Supreme Queen Nomi! On your journey, your group has encountered a courtier of threats that are on the offensive. Not to worry, you will also gain assistance from your comrades up in space with the help of Aitemus, Powerups that will temporarily give you an advantage in surviving.•\\t10 Playable Aliens, each with their own Unique look and Perks.•\\tMissions for each Alien, set within different locations and scenarios.•\\tCustomisable Multiplayer with enough options for unique sessions that keep on changing every time you play.•\\tPowerups that give you an advantage and could give others a DisadvantageWITH MORE CONTENT ON THE WAY!WARNING: Some Levels contain sequences with Flashing Lights.  "
      ]
     },
     "execution_count": 13,
     "metadata": {},
     "output_type": "execute_result"
    }
   ],
   "source": [
    "# Load the JSON file into a DataFrame\n",
    "with open(\"steam_games.json\", \"r\") as file:\n",
    "    steam_games_data = json.load(file)\n",
    "\n",
    "# Create a DataFrame from the loaded data\n",
    "df = pd.DataFrame(steam_games_data)\n",
    "\n",
    "# Print the DataFrame\n",
    "df.sample(3)"
   ]
  },
  {
   "cell_type": "code",
   "execution_count": 21,
   "id": "ef4534b1-3444-4150-a7fe-80006a7bb9cb",
   "metadata": {},
   "outputs": [
    {
     "name": "stdout",
     "output_type": "stream",
     "text": [
      "(50, 2)\n"
     ]
    },
    {
     "data": {
      "text/plain": [
       "Dataset({\n",
       "    features: ['game_name', 'game_description'],\n",
       "    num_rows: 50\n",
       "})"
      ]
     },
     "execution_count": 21,
     "metadata": {},
     "output_type": "execute_result"
    }
   ],
   "source": [
    "from datasets import Dataset\n",
    "\n",
    "# Convert the DataFrame to the Hugging Face dataset format\n",
    "dataset = Dataset.from_pandas(df)\n",
    "print(dataset.shape)\n",
    "dataset"
   ]
  },
  {
   "cell_type": "code",
   "execution_count": 20,
   "id": "8084fbd2",
   "metadata": {},
   "outputs": [],
   "source": [
    "# import torch\n",
    "# # Setup first the device agnostic code\n",
    "# device = \"cuda\" if torch.cuda.is_available() else \"cpu\"\n",
    "# print(device)"
   ]
  },
  {
   "cell_type": "code",
   "execution_count": 17,
   "id": "f99a19a3-ced8-43ad-9fd5-13c9b54e4f36",
   "metadata": {},
   "outputs": [],
   "source": [
    "from transformers import AutoTokenizer, AutoModel\n",
    "# model and tokenizer instance\n",
    "model_ckpt = \"sentence-transformers/multi-qa-mpnet-base-dot-v1\"\n",
    "tokenizer = AutoTokenizer.from_pretrained(model_ckpt)\n",
    "model = AutoModel.from_pretrained(model_ckpt)\n",
    "\n",
    "# put model to device\n",
    "# model = model.to(device)"
   ]
  },
  {
   "cell_type": "code",
   "execution_count": 23,
   "id": "48717aa3-6f09-4ce8-9bcc-a57c3f209d8e",
   "metadata": {},
   "outputs": [],
   "source": [
    "def cls_pooling(model_output):\n",
    "    # Select the first token's representation from the last_hidden_state tensor\n",
    "    return model_output.last_hidden_state[:, 0]\n",
    "\n",
    "\n",
    "def get_embeddings(text_list):\n",
    "    encoded_input = tokenizer(\n",
    "        text_list, padding=True, truncation=True, return_tensors=\"pt\"\n",
    "    )\n",
    "    model_output = model(**encoded_input)\n",
    "    return cls_pooling(model_output)"
   ]
  },
  {
   "cell_type": "code",
   "execution_count": 25,
   "id": "96732043-846d-458e-89a9-ec70c4c7f3bc",
   "metadata": {},
   "outputs": [
    {
     "name": "stderr",
     "output_type": "stream",
     "text": [
      "Map: 100%|█| 50/50 [01:15\n"
     ]
    }
   ],
   "source": [
    "# get_embeddings is in torch type, we will detach from torch and move to cpu then and convert to numpy\n",
    "embeddings_dataset = dataset.map(\n",
    "    lambda x: {\"embeddings\": get_embeddings(x[\"game_description\"]).detach().numpy()[0]}\n",
    "    )"
   ]
  },
  {
   "cell_type": "code",
   "execution_count": 26,
   "id": "3c915bba-e9de-4ab7-9bb6-f6faf79f8759",
   "metadata": {},
   "outputs": [
    {
     "data": {
      "text/plain": [
       "Dataset({\n",
       "    features: ['game_name', 'game_description', 'embeddings'],\n",
       "    num_rows: 50\n",
       "})"
      ]
     },
     "execution_count": 26,
     "metadata": {},
     "output_type": "execute_result"
    }
   ],
   "source": [
    "embeddings_dataset"
   ]
  },
  {
   "cell_type": "code",
   "execution_count": 29,
   "id": "c3e3fe3f-2ba9-46bb-a5a9-02fc3bd6782f",
   "metadata": {
    "scrolled": true
   },
   "outputs": [
    {
     "data": {
      "text/html": [
       "<div>\n",
       "<style scoped>\n",
       "    .dataframe tbody tr th:only-of-type {\n",
       "        vertical-align: middle;\n",
       "    }\n",
       "\n",
       "    .dataframe tbody tr th {\n",
       "        vertical-align: top;\n",
       "    }\n",
       "\n",
       "    .dataframe thead th {\n",
       "        text-align: right;\n",
       "    }\n",
       "</style>\n",
       "<table border=\"1\" class=\"dataframe\">\n",
       "  <thead>\n",
       "    <tr style=\"text-align: right;\">\n",
       "      <th></th>\n",
       "      <th>game_name</th>\n",
       "      <th>game_description</th>\n",
       "      <th>embeddings</th>\n",
       "    </tr>\n",
       "  </thead>\n",
       "  <tbody>\n",
       "    <tr>\n",
       "      <th>0</th>\n",
       "      <td>Nagori Rokudo Striving to be her ideal self -The inexperienced love life of a hard-to-get psychology lecturer-</td>\n",
       "      <td>GAME OVERVIEW:Striving to be the perfect \"Nagori Rokudo\"!!!She'll show you her superior female techniques.A virgin, Nagori Rokudo, strives to be the perfect woman!To most men, she looks unattainable, but is actually still a virgin.It is the story of a young adult virgin striving for perfection.This story is a visual novel.GENRE:An inexperienced woman's love adventureCONCEPT:This is the story of a virgin looking to become her ideal self!It is a romance in which she tries to seem experienced in love but actually isn't!1) Nagori's true self -The heroine, Nagori Rokudo, is a gorgeous woman.She seems hard-to-get, driving many men crazy and making many women envious.However, she's actually still a virgin.She looks like an unattainable gorgeous lady, but actually is an inexperienced beginner.As the hero confesses his love to her, she gets together with him to learn about men's psychology, but nothing goes well.Enjoy seeing her complicated nature.2) Having sex, the gorgeous woman's way -She's a virgin but takes the lead in bed.She isn't very experienced but dominates and has sex utilizing a technique she had practiced with a cucumber.Actually, she always tries her best. Relax and enjoy her story.3) Nagori's progression -What will Nagori think after dating the hero? How will she change and can she still remain a highly-prized woman?Pride or pure love...what will she get in the end? See for yourself.This is the story of a woman's progress who has trouble in love.CHARACTER:Nagori RokudoDATA:Sex: Female  Age: 25  Blood Type: BHeight: 5'5\"  Weight: 112 lbs.Measurements: 34(B) / 23(W) / 32(H)PROFILE:She's a young female lecturer at a University.Without intent, she attracts and plays mind games with many men.A young guy suddenly confesses his love for her and she mysteriously accepts it and gets together with him.On that same date, she demands they start living together.However, she plays hard-to-get and thoroughly controls his sexual satisfaction.Her field is psychology.She teaches it, utilizing real-life practice and anecdotes as well as theory.</td>\n",
       "      <td>[0.44213834, -0.102866024, -0.16917355, -0.11125013, 0.3024944, -0.069536194, -0.16807997, 0.12875941, -0.2638214, 0.06383678, 0.04400058, -0.42661372, 0.07753925, 0.08016734, 0.01946449, -0.30101776, 0.0131008625, -0.00786493, 0.43814677, 0.109415844, 0.06510561, -0.11366743, 0.097853824, 0.50835806, 0.060772512, -0.27403253, -0.1698554, 0.083884634, -0.17643611, -0.2192099, 0.36729106, 0.21105976, 0.2595416, 0.4133473, -0.000106539796, -0.2730753, 0.060379177, -0.10235309, 0.12862495, -0.20761542, 0.15099761, -0.15084791, -0.046504736, -0.32704496, 0.1074766, -0.37058958, 0.101355456, -0.03736022, 0.17889956, 0.009679305, 0.21964751, -0.4086061, -0.034290943, -0.16220194, 0.038861874, 0.33773172, -0.18066564, 0.3380143, 0.05993188, 0.087558955, -0.1042668, -0.14201084, -0.27762038, -0.24117436, 0.09125599, 0.00094178226, 0.62924945, -0.1982292, 0.0844491, 0.28522468, -0.16962469, -0.059379965, 0.2992314, 0.26020548, -0.011838311, -0.0883597, -0.26403567, 0.14221108, -0.5210407, -0.15236291, -0.2841337, 0.21195656, -0.119489685, 0.20075531, 0.2581189, -0.5399293, 0.071088515, 0.098402895, 0.15692264, -0.13069582, -0.42144528, -0.2956533, 0.021887166, 0.050047874, -0.08772585, -0.08264427, 0.16655171, 0.012067057, 0.18510371, -0.013573576, ...]</td>\n",
       "    </tr>\n",
       "    <tr>\n",
       "      <th>1</th>\n",
       "      <td>Mini Car Racing - Tiny Split Screen Tournament</td>\n",
       "      <td>Welcome to the one and only tiny split-screen racing tournament! Grab a friend (or none if no one is around), strap on your seat belt, and hit the road in more than 24 hot and lovely designed mini tracks. It’s fast, it’s fun, it’s exciting. It’s time for Mini Car Racing.Mini Car Racing – Tiny Split Screen Tournament featuresA single-player and local multiplayer mode with 1-4 playersPlay together or against your friends (if you have any) Experience a fun and exciting road rage Feel the speed of the tiny cars while bursting over one of the 24 specifically designed tracks Enjoy an intriguing and action-packed soundtrackShow your friends who the boss is – YOU!The game also features24 tracks 6 different tournaments3 different difficulties 8 unique cars 1-4 players</td>\n",
       "      <td>[-0.3231659, -0.79748106, -0.107832074, 0.32540613, -0.015108034, 0.11576416, 0.39945453, -0.06770356, -0.31292143, 0.14644906, -0.042518668, 0.007823012, -0.40668917, 0.19842155, 0.10694522, -0.5527661, -0.12236846, -0.19703734, 0.10825391, -0.0040486604, 0.21910241, -0.19891402, -0.3078559, 0.20065369, -0.3307384, -0.013302876, -0.05786274, 0.00063362345, -0.084336706, -0.11265051, 0.040898837, 0.152932, 0.505389, 0.6183773, -0.000112151036, -0.19036686, 0.13368508, -0.03775952, 0.087021664, 0.22095817, -0.23462746, 0.4430124, 0.024808276, 0.047754146, -0.17531338, 0.0036699786, 0.2996106, -0.22168052, 0.59017384, -0.26625448, 0.19591476, 0.16657387, -0.51326257, -0.08075404, 0.38474172, 0.3466881, -0.00396139, -0.029661775, 0.3378847, -0.27013654, 0.16405824, 0.0127648795, -0.35420465, -0.22170238, 0.1382674, -0.07612762, 0.04597576, -0.39629608, 0.102169424, 0.3120818, -0.16831025, -0.30227968, 0.024798663, -0.1542342, 0.12297892, -0.20409836, -0.40034136, 0.2404303, -0.2516752, 0.013449438, -0.33595482, 0.2871091, -0.029563967, -0.10923645, 0.085225835, 0.4242405, 0.08303791, 0.15076417, -0.19379856, 0.259529, -0.046647456, -0.10159239, 0.008053377, 0.28576857, 0.1595955, -0.31902924, 0.11613095, 0.10952141, -0.025145419, -0.40561676, ...]</td>\n",
       "    </tr>\n",
       "    <tr>\n",
       "      <th>2</th>\n",
       "      <td>Content Creator Simulator</td>\n",
       "      <td>Step into the life of a true content creator! It's your job to make the best content possible for your audience, can you do it?Be in the trend!You can choose absolutely any topic for a video: sports, animals, fashion, business, music and much more!You should record a video on the topic that is in the trend. Could you make a viral video?Click faster!Сlick on the image of the topic to record a video.The faster you click, the faster it will be recorded!Make an upgrades!Improve the equipment for recording - it will help you make better videos, and get more views!You can even hire own operator - it will increase your productivity.Promote your channel!You can create own website, buy advertising, collaborate with other video bloggers, or simply tell friends about channel.The more subscribers you have, the more views per second You get! Hire a PR manager after all!Don't miss the chance!Catch bonuses, collect gifts from fans and complete missions to get more views. We have prepared 1000 achievements for you! Can You collect them all?Trading cards!We will add this feature in the near future, as soon as it becomes available.</td>\n",
       "      <td>[0.31748992, -0.05510913, -0.20428091, -0.26562124, 0.2692717, 0.07569023, -0.11388607, 0.07570095, -0.33037758, 0.044767037, 0.20074244, 0.24374044, -0.37817776, 0.35806417, 0.10187986, -0.18580002, 0.04211123, 0.019484982, 0.15514465, 0.030189268, 0.07981115, -0.33384037, 0.096651465, 0.013962559, -0.4742349, -0.18697068, 0.3415937, 0.04323692, -0.18475406, -0.36732134, -0.317096, 0.025804225, 0.38453552, 0.2955412, -0.00010029628, -0.40182018, 0.36504453, -0.10795613, -0.251147, 0.07566689, -0.13704757, -0.06767377, 0.055015296, 0.2937779, -0.0008023493, 0.09675807, 0.24337676, 0.06007634, 0.32554558, 0.031661678, 0.24477524, -0.52096355, 0.14325461, -0.14947179, 0.31442425, 0.19718993, -0.13777328, 0.16205862, 0.34009728, -0.101982616, -0.03521522, 0.19418865, -0.0718405, -0.14584798, 0.29752573, 0.046634782, 0.2531056, -0.60050786, 0.19503671, -0.13720047, 0.07113055, 0.1819503, -0.11385691, 0.054638848, 0.25733986, -0.26190567, -0.20647365, 0.09156376, -0.11876516, 0.09035264, -0.12205483, 0.16786826, -0.25128132, 0.027078722, 0.28212085, 0.13065691, 0.050624955, -0.14850628, 0.1706268, 0.10562069, 0.26946577, 0.10508349, -0.041158196, 0.14112765, 0.017414454, 0.03337103, 0.4059339, 0.2972017, -0.20175058, -0.0457756, ...]</td>\n",
       "    </tr>\n",
       "  </tbody>\n",
       "</table>\n",
       "</div>"
      ],
      "text/plain": [
       "                                                                                                        game_name  \\\n",
       "0  Nagori Rokudo Striving to be her ideal self -The inexperienced love life of a hard-to-get psychology lecturer-   \n",
       "1                                                                  Mini Car Racing - Tiny Split Screen Tournament   \n",
       "2                                                                                       Content Creator Simulator   \n",
       "\n",
       "                                                                                                                                                                                                                                                                                                                                                                                                                                                                                                                                                                                                                                                                                                                                                                                                                                                                                                                                                                                                                                                                                                                                                                                                                                                                                                                                                                                                                                                                                                                                                                                                                                                                                                                                                                                                                                                                                                                                                                                                                                                                                                                                       game_description  \\\n",
       "0  GAME OVERVIEW:Striving to be the perfect \"Nagori Rokudo\"!!!She'll show you her superior female techniques.A virgin, Nagori Rokudo, strives to be the perfect woman!To most men, she looks unattainable, but is actually still a virgin.It is the story of a young adult virgin striving for perfection.This story is a visual novel.GENRE:An inexperienced woman's love adventureCONCEPT:This is the story of a virgin looking to become her ideal self!It is a romance in which she tries to seem experienced in love but actually isn't!1) Nagori's true self -The heroine, Nagori Rokudo, is a gorgeous woman.She seems hard-to-get, driving many men crazy and making many women envious.However, she's actually still a virgin.She looks like an unattainable gorgeous lady, but actually is an inexperienced beginner.As the hero confesses his love to her, she gets together with him to learn about men's psychology, but nothing goes well.Enjoy seeing her complicated nature.2) Having sex, the gorgeous woman's way -She's a virgin but takes the lead in bed.She isn't very experienced but dominates and has sex utilizing a technique she had practiced with a cucumber.Actually, she always tries her best. Relax and enjoy her story.3) Nagori's progression -What will Nagori think after dating the hero? How will she change and can she still remain a highly-prized woman?Pride or pure love...what will she get in the end? See for yourself.This is the story of a woman's progress who has trouble in love.CHARACTER:Nagori RokudoDATA:Sex: Female  Age: 25  Blood Type: BHeight: 5'5\"  Weight: 112 lbs.Measurements: 34(B) / 23(W) / 32(H)PROFILE:She's a young female lecturer at a University.Without intent, she attracts and plays mind games with many men.A young guy suddenly confesses his love for her and she mysteriously accepts it and gets together with him.On that same date, she demands they start living together.However, she plays hard-to-get and thoroughly controls his sexual satisfaction.Her field is psychology.She teaches it, utilizing real-life practice and anecdotes as well as theory.   \n",
       "1                                                                                                                                                                                                                                                                                                                                                                                                                                                                                                                                                                                                                                                                                                                                                                                                                                                                                                                                                                                                                                                                                                                                                                                                                                                                                                                                                     Welcome to the one and only tiny split-screen racing tournament! Grab a friend (or none if no one is around), strap on your seat belt, and hit the road in more than 24 hot and lovely designed mini tracks. It’s fast, it’s fun, it’s exciting. It’s time for Mini Car Racing.Mini Car Racing – Tiny Split Screen Tournament featuresA single-player and local multiplayer mode with 1-4 playersPlay together or against your friends (if you have any) Experience a fun and exciting road rage Feel the speed of the tiny cars while bursting over one of the 24 specifically designed tracks Enjoy an intriguing and action-packed soundtrackShow your friends who the boss is – YOU!The game also features24 tracks 6 different tournaments3 different difficulties 8 unique cars 1-4 players   \n",
       "2                                                                                                                                                                                                                                                                                                                                                                                                                                                                                                                                                                                                                                                                                                                                                                                                                                                                                                                                                                           Step into the life of a true content creator! It's your job to make the best content possible for your audience, can you do it?Be in the trend!You can choose absolutely any topic for a video: sports, animals, fashion, business, music and much more!You should record a video on the topic that is in the trend. Could you make a viral video?Click faster!Сlick on the image of the topic to record a video.The faster you click, the faster it will be recorded!Make an upgrades!Improve the equipment for recording - it will help you make better videos, and get more views!You can even hire own operator - it will increase your productivity.Promote your channel!You can create own website, buy advertising, collaborate with other video bloggers, or simply tell friends about channel.The more subscribers you have, the more views per second You get! Hire a PR manager after all!Don't miss the chance!Catch bonuses, collect gifts from fans and complete missions to get more views. We have prepared 1000 achievements for you! Can You collect them all?Trading cards!We will add this feature in the near future, as soon as it becomes available.   \n",
       "\n",
       "                                                                                                                                                                                                                                                                                                                                                                                                                                                                                                                                                                                                                                                                                                                                                                                                                                                                                                                                                                                                                                                                                                                                                                                                                                                                                                         embeddings  \n",
       "0  [0.44213834, -0.102866024, -0.16917355, -0.11125013, 0.3024944, -0.069536194, -0.16807997, 0.12875941, -0.2638214, 0.06383678, 0.04400058, -0.42661372, 0.07753925, 0.08016734, 0.01946449, -0.30101776, 0.0131008625, -0.00786493, 0.43814677, 0.109415844, 0.06510561, -0.11366743, 0.097853824, 0.50835806, 0.060772512, -0.27403253, -0.1698554, 0.083884634, -0.17643611, -0.2192099, 0.36729106, 0.21105976, 0.2595416, 0.4133473, -0.000106539796, -0.2730753, 0.060379177, -0.10235309, 0.12862495, -0.20761542, 0.15099761, -0.15084791, -0.046504736, -0.32704496, 0.1074766, -0.37058958, 0.101355456, -0.03736022, 0.17889956, 0.009679305, 0.21964751, -0.4086061, -0.034290943, -0.16220194, 0.038861874, 0.33773172, -0.18066564, 0.3380143, 0.05993188, 0.087558955, -0.1042668, -0.14201084, -0.27762038, -0.24117436, 0.09125599, 0.00094178226, 0.62924945, -0.1982292, 0.0844491, 0.28522468, -0.16962469, -0.059379965, 0.2992314, 0.26020548, -0.011838311, -0.0883597, -0.26403567, 0.14221108, -0.5210407, -0.15236291, -0.2841337, 0.21195656, -0.119489685, 0.20075531, 0.2581189, -0.5399293, 0.071088515, 0.098402895, 0.15692264, -0.13069582, -0.42144528, -0.2956533, 0.021887166, 0.050047874, -0.08772585, -0.08264427, 0.16655171, 0.012067057, 0.18510371, -0.013573576, ...]  \n",
       "1  [-0.3231659, -0.79748106, -0.107832074, 0.32540613, -0.015108034, 0.11576416, 0.39945453, -0.06770356, -0.31292143, 0.14644906, -0.042518668, 0.007823012, -0.40668917, 0.19842155, 0.10694522, -0.5527661, -0.12236846, -0.19703734, 0.10825391, -0.0040486604, 0.21910241, -0.19891402, -0.3078559, 0.20065369, -0.3307384, -0.013302876, -0.05786274, 0.00063362345, -0.084336706, -0.11265051, 0.040898837, 0.152932, 0.505389, 0.6183773, -0.000112151036, -0.19036686, 0.13368508, -0.03775952, 0.087021664, 0.22095817, -0.23462746, 0.4430124, 0.024808276, 0.047754146, -0.17531338, 0.0036699786, 0.2996106, -0.22168052, 0.59017384, -0.26625448, 0.19591476, 0.16657387, -0.51326257, -0.08075404, 0.38474172, 0.3466881, -0.00396139, -0.029661775, 0.3378847, -0.27013654, 0.16405824, 0.0127648795, -0.35420465, -0.22170238, 0.1382674, -0.07612762, 0.04597576, -0.39629608, 0.102169424, 0.3120818, -0.16831025, -0.30227968, 0.024798663, -0.1542342, 0.12297892, -0.20409836, -0.40034136, 0.2404303, -0.2516752, 0.013449438, -0.33595482, 0.2871091, -0.029563967, -0.10923645, 0.085225835, 0.4242405, 0.08303791, 0.15076417, -0.19379856, 0.259529, -0.046647456, -0.10159239, 0.008053377, 0.28576857, 0.1595955, -0.31902924, 0.11613095, 0.10952141, -0.025145419, -0.40561676, ...]  \n",
       "2                  [0.31748992, -0.05510913, -0.20428091, -0.26562124, 0.2692717, 0.07569023, -0.11388607, 0.07570095, -0.33037758, 0.044767037, 0.20074244, 0.24374044, -0.37817776, 0.35806417, 0.10187986, -0.18580002, 0.04211123, 0.019484982, 0.15514465, 0.030189268, 0.07981115, -0.33384037, 0.096651465, 0.013962559, -0.4742349, -0.18697068, 0.3415937, 0.04323692, -0.18475406, -0.36732134, -0.317096, 0.025804225, 0.38453552, 0.2955412, -0.00010029628, -0.40182018, 0.36504453, -0.10795613, -0.251147, 0.07566689, -0.13704757, -0.06767377, 0.055015296, 0.2937779, -0.0008023493, 0.09675807, 0.24337676, 0.06007634, 0.32554558, 0.031661678, 0.24477524, -0.52096355, 0.14325461, -0.14947179, 0.31442425, 0.19718993, -0.13777328, 0.16205862, 0.34009728, -0.101982616, -0.03521522, 0.19418865, -0.0718405, -0.14584798, 0.29752573, 0.046634782, 0.2531056, -0.60050786, 0.19503671, -0.13720047, 0.07113055, 0.1819503, -0.11385691, 0.054638848, 0.25733986, -0.26190567, -0.20647365, 0.09156376, -0.11876516, 0.09035264, -0.12205483, 0.16786826, -0.25128132, 0.027078722, 0.28212085, 0.13065691, 0.050624955, -0.14850628, 0.1706268, 0.10562069, 0.26946577, 0.10508349, -0.041158196, 0.14112765, 0.017414454, 0.03337103, 0.4059339, 0.2972017, -0.20175058, -0.0457756, ...]  "
      ]
     },
     "execution_count": 29,
     "metadata": {},
     "output_type": "execute_result"
    }
   ],
   "source": [
    "df = embeddings_dataset.to_pandas()\n",
    "# then inspect:\n",
    "df.head(3)"
   ]
  },
  {
   "cell_type": "code",
   "execution_count": 34,
   "id": "f63b9a96-48d1-4989-9348-931c1eee421b",
   "metadata": {},
   "outputs": [
    {
     "name": "stderr",
     "output_type": "stream",
     "text": [
      "100%|█| 1/1 [00:00<00:00,\n"
     ]
    },
    {
     "data": {
      "text/plain": [
       "Dataset({\n",
       "    features: ['game_name', 'game_description', 'embeddings'],\n",
       "    num_rows: 50\n",
       "})"
      ]
     },
     "execution_count": 34,
     "metadata": {},
     "output_type": "execute_result"
    }
   ],
   "source": [
    "embeddings_dataset.add_faiss_index(column=\"embeddings\")"
   ]
  },
  {
   "cell_type": "code",
   "execution_count": 35,
   "id": "9e627da8-a83b-4b08-935e-fa73cee3eaed",
   "metadata": {
    "scrolled": true
   },
   "outputs": [
    {
     "data": {
      "text/html": [
       "<div>\n",
       "<style scoped>\n",
       "    .dataframe tbody tr th:only-of-type {\n",
       "        vertical-align: middle;\n",
       "    }\n",
       "\n",
       "    .dataframe tbody tr th {\n",
       "        vertical-align: top;\n",
       "    }\n",
       "\n",
       "    .dataframe thead th {\n",
       "        text-align: right;\n",
       "    }\n",
       "</style>\n",
       "<table border=\"1\" class=\"dataframe\">\n",
       "  <thead>\n",
       "    <tr style=\"text-align: right;\">\n",
       "      <th></th>\n",
       "      <th>game_name</th>\n",
       "      <th>game_description</th>\n",
       "      <th>embeddings</th>\n",
       "    </tr>\n",
       "  </thead>\n",
       "  <tbody>\n",
       "    <tr>\n",
       "      <th>0</th>\n",
       "      <td>Nagori Rokudo Striving to be her ideal self -The inexperienced love life of a hard-to-get psychology lecturer-</td>\n",
       "      <td>GAME OVERVIEW:Striving to be the perfect \"Nagori Rokudo\"!!!She'll show you her superior female techniques.A virgin, Nagori Rokudo, strives to be the perfect woman!To most men, she looks unattainable, but is actually still a virgin.It is the story of a young adult virgin striving for perfection.This story is a visual novel.GENRE:An inexperienced woman's love adventureCONCEPT:This is the story of a virgin looking to become her ideal self!It is a romance in which she tries to seem experienced in love but actually isn't!1) Nagori's true self -The heroine, Nagori Rokudo, is a gorgeous woman.She seems hard-to-get, driving many men crazy and making many women envious.However, she's actually still a virgin.She looks like an unattainable gorgeous lady, but actually is an inexperienced beginner.As the hero confesses his love to her, she gets together with him to learn about men's psychology, but nothing goes well.Enjoy seeing her complicated nature.2) Having sex, the gorgeous woman's way -She's a virgin but takes the lead in bed.She isn't very experienced but dominates and has sex utilizing a technique she had practiced with a cucumber.Actually, she always tries her best. Relax and enjoy her story.3) Nagori's progression -What will Nagori think after dating the hero? How will she change and can she still remain a highly-prized woman?Pride or pure love...what will she get in the end? See for yourself.This is the story of a woman's progress who has trouble in love.CHARACTER:Nagori RokudoDATA:Sex: Female  Age: 25  Blood Type: BHeight: 5'5\"  Weight: 112 lbs.Measurements: 34(B) / 23(W) / 32(H)PROFILE:She's a young female lecturer at a University.Without intent, she attracts and plays mind games with many men.A young guy suddenly confesses his love for her and she mysteriously accepts it and gets together with him.On that same date, she demands they start living together.However, she plays hard-to-get and thoroughly controls his sexual satisfaction.Her field is psychology.She teaches it, utilizing real-life practice and anecdotes as well as theory.</td>\n",
       "      <td>[0.44213834, -0.102866024, -0.16917355, -0.11125013, 0.3024944, -0.069536194, -0.16807997, 0.12875941, -0.2638214, 0.06383678, 0.04400058, -0.42661372, 0.07753925, 0.08016734, 0.01946449, -0.30101776, 0.0131008625, -0.00786493, 0.43814677, 0.109415844, 0.06510561, -0.11366743, 0.097853824, 0.50835806, 0.060772512, -0.27403253, -0.1698554, 0.083884634, -0.17643611, -0.2192099, 0.36729106, 0.21105976, 0.2595416, 0.4133473, -0.000106539796, -0.2730753, 0.060379177, -0.10235309, 0.12862495, -0.20761542, 0.15099761, -0.15084791, -0.046504736, -0.32704496, 0.1074766, -0.37058958, 0.101355456, -0.03736022, 0.17889956, 0.009679305, 0.21964751, -0.4086061, -0.034290943, -0.16220194, 0.038861874, 0.33773172, -0.18066564, 0.3380143, 0.05993188, 0.087558955, -0.1042668, -0.14201084, -0.27762038, -0.24117436, 0.09125599, 0.00094178226, 0.62924945, -0.1982292, 0.0844491, 0.28522468, -0.16962469, -0.059379965, 0.2992314, 0.26020548, -0.011838311, -0.0883597, -0.26403567, 0.14221108, -0.5210407, -0.15236291, -0.2841337, 0.21195656, -0.119489685, 0.20075531, 0.2581189, -0.5399293, 0.071088515, 0.098402895, 0.15692264, -0.13069582, -0.42144528, -0.2956533, 0.021887166, 0.050047874, -0.08772585, -0.08264427, 0.16655171, 0.012067057, 0.18510371, -0.013573576, ...]</td>\n",
       "    </tr>\n",
       "    <tr>\n",
       "      <th>1</th>\n",
       "      <td>Mini Car Racing - Tiny Split Screen Tournament</td>\n",
       "      <td>Welcome to the one and only tiny split-screen racing tournament! Grab a friend (or none if no one is around), strap on your seat belt, and hit the road in more than 24 hot and lovely designed mini tracks. It’s fast, it’s fun, it’s exciting. It’s time for Mini Car Racing.Mini Car Racing – Tiny Split Screen Tournament featuresA single-player and local multiplayer mode with 1-4 playersPlay together or against your friends (if you have any) Experience a fun and exciting road rage Feel the speed of the tiny cars while bursting over one of the 24 specifically designed tracks Enjoy an intriguing and action-packed soundtrackShow your friends who the boss is – YOU!The game also features24 tracks 6 different tournaments3 different difficulties 8 unique cars 1-4 players</td>\n",
       "      <td>[-0.3231659, -0.79748106, -0.107832074, 0.32540613, -0.015108034, 0.11576416, 0.39945453, -0.06770356, -0.31292143, 0.14644906, -0.042518668, 0.007823012, -0.40668917, 0.19842155, 0.10694522, -0.5527661, -0.12236846, -0.19703734, 0.10825391, -0.0040486604, 0.21910241, -0.19891402, -0.3078559, 0.20065369, -0.3307384, -0.013302876, -0.05786274, 0.00063362345, -0.084336706, -0.11265051, 0.040898837, 0.152932, 0.505389, 0.6183773, -0.000112151036, -0.19036686, 0.13368508, -0.03775952, 0.087021664, 0.22095817, -0.23462746, 0.4430124, 0.024808276, 0.047754146, -0.17531338, 0.0036699786, 0.2996106, -0.22168052, 0.59017384, -0.26625448, 0.19591476, 0.16657387, -0.51326257, -0.08075404, 0.38474172, 0.3466881, -0.00396139, -0.029661775, 0.3378847, -0.27013654, 0.16405824, 0.0127648795, -0.35420465, -0.22170238, 0.1382674, -0.07612762, 0.04597576, -0.39629608, 0.102169424, 0.3120818, -0.16831025, -0.30227968, 0.024798663, -0.1542342, 0.12297892, -0.20409836, -0.40034136, 0.2404303, -0.2516752, 0.013449438, -0.33595482, 0.2871091, -0.029563967, -0.10923645, 0.085225835, 0.4242405, 0.08303791, 0.15076417, -0.19379856, 0.259529, -0.046647456, -0.10159239, 0.008053377, 0.28576857, 0.1595955, -0.31902924, 0.11613095, 0.10952141, -0.025145419, -0.40561676, ...]</td>\n",
       "    </tr>\n",
       "    <tr>\n",
       "      <th>2</th>\n",
       "      <td>Content Creator Simulator</td>\n",
       "      <td>Step into the life of a true content creator! It's your job to make the best content possible for your audience, can you do it?Be in the trend!You can choose absolutely any topic for a video: sports, animals, fashion, business, music and much more!You should record a video on the topic that is in the trend. Could you make a viral video?Click faster!Сlick on the image of the topic to record a video.The faster you click, the faster it will be recorded!Make an upgrades!Improve the equipment for recording - it will help you make better videos, and get more views!You can even hire own operator - it will increase your productivity.Promote your channel!You can create own website, buy advertising, collaborate with other video bloggers, or simply tell friends about channel.The more subscribers you have, the more views per second You get! Hire a PR manager after all!Don't miss the chance!Catch bonuses, collect gifts from fans and complete missions to get more views. We have prepared 1000 achievements for you! Can You collect them all?Trading cards!We will add this feature in the near future, as soon as it becomes available.</td>\n",
       "      <td>[0.31748992, -0.05510913, -0.20428091, -0.26562124, 0.2692717, 0.07569023, -0.11388607, 0.07570095, -0.33037758, 0.044767037, 0.20074244, 0.24374044, -0.37817776, 0.35806417, 0.10187986, -0.18580002, 0.04211123, 0.019484982, 0.15514465, 0.030189268, 0.07981115, -0.33384037, 0.096651465, 0.013962559, -0.4742349, -0.18697068, 0.3415937, 0.04323692, -0.18475406, -0.36732134, -0.317096, 0.025804225, 0.38453552, 0.2955412, -0.00010029628, -0.40182018, 0.36504453, -0.10795613, -0.251147, 0.07566689, -0.13704757, -0.06767377, 0.055015296, 0.2937779, -0.0008023493, 0.09675807, 0.24337676, 0.06007634, 0.32554558, 0.031661678, 0.24477524, -0.52096355, 0.14325461, -0.14947179, 0.31442425, 0.19718993, -0.13777328, 0.16205862, 0.34009728, -0.101982616, -0.03521522, 0.19418865, -0.0718405, -0.14584798, 0.29752573, 0.046634782, 0.2531056, -0.60050786, 0.19503671, -0.13720047, 0.07113055, 0.1819503, -0.11385691, 0.054638848, 0.25733986, -0.26190567, -0.20647365, 0.09156376, -0.11876516, 0.09035264, -0.12205483, 0.16786826, -0.25128132, 0.027078722, 0.28212085, 0.13065691, 0.050624955, -0.14850628, 0.1706268, 0.10562069, 0.26946577, 0.10508349, -0.041158196, 0.14112765, 0.017414454, 0.03337103, 0.4059339, 0.2972017, -0.20175058, -0.0457756, ...]</td>\n",
       "    </tr>\n",
       "  </tbody>\n",
       "</table>\n",
       "</div>"
      ],
      "text/plain": [
       "                                                                                                        game_name  \\\n",
       "0  Nagori Rokudo Striving to be her ideal self -The inexperienced love life of a hard-to-get psychology lecturer-   \n",
       "1                                                                  Mini Car Racing - Tiny Split Screen Tournament   \n",
       "2                                                                                       Content Creator Simulator   \n",
       "\n",
       "                                                                                                                                                                                                                                                                                                                                                                                                                                                                                                                                                                                                                                                                                                                                                                                                                                                                                                                                                                                                                                                                                                                                                                                                                                                                                                                                                                                                                                                                                                                                                                                                                                                                                                                                                                                                                                                                                                                                                                                                                                                                                                                                       game_description  \\\n",
       "0  GAME OVERVIEW:Striving to be the perfect \"Nagori Rokudo\"!!!She'll show you her superior female techniques.A virgin, Nagori Rokudo, strives to be the perfect woman!To most men, she looks unattainable, but is actually still a virgin.It is the story of a young adult virgin striving for perfection.This story is a visual novel.GENRE:An inexperienced woman's love adventureCONCEPT:This is the story of a virgin looking to become her ideal self!It is a romance in which she tries to seem experienced in love but actually isn't!1) Nagori's true self -The heroine, Nagori Rokudo, is a gorgeous woman.She seems hard-to-get, driving many men crazy and making many women envious.However, she's actually still a virgin.She looks like an unattainable gorgeous lady, but actually is an inexperienced beginner.As the hero confesses his love to her, she gets together with him to learn about men's psychology, but nothing goes well.Enjoy seeing her complicated nature.2) Having sex, the gorgeous woman's way -She's a virgin but takes the lead in bed.She isn't very experienced but dominates and has sex utilizing a technique she had practiced with a cucumber.Actually, she always tries her best. Relax and enjoy her story.3) Nagori's progression -What will Nagori think after dating the hero? How will she change and can she still remain a highly-prized woman?Pride or pure love...what will she get in the end? See for yourself.This is the story of a woman's progress who has trouble in love.CHARACTER:Nagori RokudoDATA:Sex: Female  Age: 25  Blood Type: BHeight: 5'5\"  Weight: 112 lbs.Measurements: 34(B) / 23(W) / 32(H)PROFILE:She's a young female lecturer at a University.Without intent, she attracts and plays mind games with many men.A young guy suddenly confesses his love for her and she mysteriously accepts it and gets together with him.On that same date, she demands they start living together.However, she plays hard-to-get and thoroughly controls his sexual satisfaction.Her field is psychology.She teaches it, utilizing real-life practice and anecdotes as well as theory.   \n",
       "1                                                                                                                                                                                                                                                                                                                                                                                                                                                                                                                                                                                                                                                                                                                                                                                                                                                                                                                                                                                                                                                                                                                                                                                                                                                                                                                                                     Welcome to the one and only tiny split-screen racing tournament! Grab a friend (or none if no one is around), strap on your seat belt, and hit the road in more than 24 hot and lovely designed mini tracks. It’s fast, it’s fun, it’s exciting. It’s time for Mini Car Racing.Mini Car Racing – Tiny Split Screen Tournament featuresA single-player and local multiplayer mode with 1-4 playersPlay together or against your friends (if you have any) Experience a fun and exciting road rage Feel the speed of the tiny cars while bursting over one of the 24 specifically designed tracks Enjoy an intriguing and action-packed soundtrackShow your friends who the boss is – YOU!The game also features24 tracks 6 different tournaments3 different difficulties 8 unique cars 1-4 players   \n",
       "2                                                                                                                                                                                                                                                                                                                                                                                                                                                                                                                                                                                                                                                                                                                                                                                                                                                                                                                                                                           Step into the life of a true content creator! It's your job to make the best content possible for your audience, can you do it?Be in the trend!You can choose absolutely any topic for a video: sports, animals, fashion, business, music and much more!You should record a video on the topic that is in the trend. Could you make a viral video?Click faster!Сlick on the image of the topic to record a video.The faster you click, the faster it will be recorded!Make an upgrades!Improve the equipment for recording - it will help you make better videos, and get more views!You can even hire own operator - it will increase your productivity.Promote your channel!You can create own website, buy advertising, collaborate with other video bloggers, or simply tell friends about channel.The more subscribers you have, the more views per second You get! Hire a PR manager after all!Don't miss the chance!Catch bonuses, collect gifts from fans and complete missions to get more views. We have prepared 1000 achievements for you! Can You collect them all?Trading cards!We will add this feature in the near future, as soon as it becomes available.   \n",
       "\n",
       "                                                                                                                                                                                                                                                                                                                                                                                                                                                                                                                                                                                                                                                                                                                                                                                                                                                                                                                                                                                                                                                                                                                                                                                                                                                                                                         embeddings  \n",
       "0  [0.44213834, -0.102866024, -0.16917355, -0.11125013, 0.3024944, -0.069536194, -0.16807997, 0.12875941, -0.2638214, 0.06383678, 0.04400058, -0.42661372, 0.07753925, 0.08016734, 0.01946449, -0.30101776, 0.0131008625, -0.00786493, 0.43814677, 0.109415844, 0.06510561, -0.11366743, 0.097853824, 0.50835806, 0.060772512, -0.27403253, -0.1698554, 0.083884634, -0.17643611, -0.2192099, 0.36729106, 0.21105976, 0.2595416, 0.4133473, -0.000106539796, -0.2730753, 0.060379177, -0.10235309, 0.12862495, -0.20761542, 0.15099761, -0.15084791, -0.046504736, -0.32704496, 0.1074766, -0.37058958, 0.101355456, -0.03736022, 0.17889956, 0.009679305, 0.21964751, -0.4086061, -0.034290943, -0.16220194, 0.038861874, 0.33773172, -0.18066564, 0.3380143, 0.05993188, 0.087558955, -0.1042668, -0.14201084, -0.27762038, -0.24117436, 0.09125599, 0.00094178226, 0.62924945, -0.1982292, 0.0844491, 0.28522468, -0.16962469, -0.059379965, 0.2992314, 0.26020548, -0.011838311, -0.0883597, -0.26403567, 0.14221108, -0.5210407, -0.15236291, -0.2841337, 0.21195656, -0.119489685, 0.20075531, 0.2581189, -0.5399293, 0.071088515, 0.098402895, 0.15692264, -0.13069582, -0.42144528, -0.2956533, 0.021887166, 0.050047874, -0.08772585, -0.08264427, 0.16655171, 0.012067057, 0.18510371, -0.013573576, ...]  \n",
       "1  [-0.3231659, -0.79748106, -0.107832074, 0.32540613, -0.015108034, 0.11576416, 0.39945453, -0.06770356, -0.31292143, 0.14644906, -0.042518668, 0.007823012, -0.40668917, 0.19842155, 0.10694522, -0.5527661, -0.12236846, -0.19703734, 0.10825391, -0.0040486604, 0.21910241, -0.19891402, -0.3078559, 0.20065369, -0.3307384, -0.013302876, -0.05786274, 0.00063362345, -0.084336706, -0.11265051, 0.040898837, 0.152932, 0.505389, 0.6183773, -0.000112151036, -0.19036686, 0.13368508, -0.03775952, 0.087021664, 0.22095817, -0.23462746, 0.4430124, 0.024808276, 0.047754146, -0.17531338, 0.0036699786, 0.2996106, -0.22168052, 0.59017384, -0.26625448, 0.19591476, 0.16657387, -0.51326257, -0.08075404, 0.38474172, 0.3466881, -0.00396139, -0.029661775, 0.3378847, -0.27013654, 0.16405824, 0.0127648795, -0.35420465, -0.22170238, 0.1382674, -0.07612762, 0.04597576, -0.39629608, 0.102169424, 0.3120818, -0.16831025, -0.30227968, 0.024798663, -0.1542342, 0.12297892, -0.20409836, -0.40034136, 0.2404303, -0.2516752, 0.013449438, -0.33595482, 0.2871091, -0.029563967, -0.10923645, 0.085225835, 0.4242405, 0.08303791, 0.15076417, -0.19379856, 0.259529, -0.046647456, -0.10159239, 0.008053377, 0.28576857, 0.1595955, -0.31902924, 0.11613095, 0.10952141, -0.025145419, -0.40561676, ...]  \n",
       "2                  [0.31748992, -0.05510913, -0.20428091, -0.26562124, 0.2692717, 0.07569023, -0.11388607, 0.07570095, -0.33037758, 0.044767037, 0.20074244, 0.24374044, -0.37817776, 0.35806417, 0.10187986, -0.18580002, 0.04211123, 0.019484982, 0.15514465, 0.030189268, 0.07981115, -0.33384037, 0.096651465, 0.013962559, -0.4742349, -0.18697068, 0.3415937, 0.04323692, -0.18475406, -0.36732134, -0.317096, 0.025804225, 0.38453552, 0.2955412, -0.00010029628, -0.40182018, 0.36504453, -0.10795613, -0.251147, 0.07566689, -0.13704757, -0.06767377, 0.055015296, 0.2937779, -0.0008023493, 0.09675807, 0.24337676, 0.06007634, 0.32554558, 0.031661678, 0.24477524, -0.52096355, 0.14325461, -0.14947179, 0.31442425, 0.19718993, -0.13777328, 0.16205862, 0.34009728, -0.101982616, -0.03521522, 0.19418865, -0.0718405, -0.14584798, 0.29752573, 0.046634782, 0.2531056, -0.60050786, 0.19503671, -0.13720047, 0.07113055, 0.1819503, -0.11385691, 0.054638848, 0.25733986, -0.26190567, -0.20647365, 0.09156376, -0.11876516, 0.09035264, -0.12205483, 0.16786826, -0.25128132, 0.027078722, 0.28212085, 0.13065691, 0.050624955, -0.14850628, 0.1706268, 0.10562069, 0.26946577, 0.10508349, -0.041158196, 0.14112765, 0.017414454, 0.03337103, 0.4059339, 0.2972017, -0.20175058, -0.0457756, ...]  "
      ]
     },
     "execution_count": 35,
     "metadata": {},
     "output_type": "execute_result"
    }
   ],
   "source": [
    "df = embeddings_dataset.to_pandas()\n",
    "# then inspect:\n",
    "df.head(3)"
   ]
  },
  {
   "cell_type": "code",
   "execution_count": null,
   "id": "71a55032-3d42-4040-a474-9b6b1575d92f",
   "metadata": {},
   "outputs": [],
   "source": []
  }
 ],
 "metadata": {
  "kernelspec": {
   "display_name": "Python 3 (ipykernel)",
   "language": "python",
   "name": "python3"
  },
  "language_info": {
   "codemirror_mode": {
    "name": "ipython",
    "version": 3
   },
   "file_extension": ".py",
   "mimetype": "text/x-python",
   "name": "python",
   "nbconvert_exporter": "python",
   "pygments_lexer": "ipython3",
   "version": "3.13.3"
  }
 },
 "nbformat": 4,
 "nbformat_minor": 5
}
